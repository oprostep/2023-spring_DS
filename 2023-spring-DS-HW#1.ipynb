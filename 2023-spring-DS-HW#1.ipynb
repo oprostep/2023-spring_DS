{
 "cells": [
  {
   "cell_type": "markdown",
   "id": "6d609a3e",
   "metadata": {},
   "source": [
    "# Working on ssl.py with JNB\n",
    "### 202104591 수학과 김하준"
   ]
  },
  {
   "cell_type": "markdown",
   "id": "a1840a88",
   "metadata": {},
   "source": [
    "## ssl.py"
   ]
  },
  {
   "cell_type": "code",
   "execution_count": 1,
   "id": "efe561b9",
   "metadata": {},
   "outputs": [],
   "source": [
    "## 202104591 수학과 김하준\n",
    "## 정상동작\n",
    "\n",
    "# Node 클래스 정의\n",
    "class Node:\n",
    "\tdef __init__(self, data):\n",
    "\t\tself.data = data\n",
    "\t\tself.next = None\n",
    "\n",
    "\n",
    "# LinkedList 클래스 정의\n",
    "class LinkedList:\n",
    "\n",
    "\t# 초기화 메소드\n",
    "\tdef __init__(self):\n",
    "\t\tdummy = Node(\"dummy\")\n",
    "\t\tself.head = dummy\n",
    "\t\tself.tail = dummy\n",
    "\n",
    "\t\tself.current = None\n",
    "\t\tself.before = None\n",
    "\n",
    "\t\tself.num_of_data = 0\n",
    "\n",
    "\t# append 메소드 (insert - 맨 뒤에 노드 추가, tail과 node의 next, 데이터 개수 변경)\n",
    "\tdef append(self, data):\n",
    "\t\tnew_node = Node(data)\n",
    "\t\tself.tail.next = new_node\n",
    "\t\tself.tail = new_node\n",
    "\n",
    "\t\tself.num_of_data += 1\n",
    "\n",
    "\t# delete 메소드 (delete - current 노드 삭제, 인접 노드의 current, next 변경, 데이터 개수 변경)\n",
    "\tdef delete(self):\n",
    "\t\tpop_data = self.current.data\n",
    "\n",
    "\t\tif self.current is self.tail:\n",
    "\t\t\tself.tail = self.before\n",
    "\n",
    "\t\t\t# 중요 : current가 next가 아닌 before로 변경된다.\n",
    "\t\t\tself.before.next = self.current.next\n",
    "\t\t\tself.current = self.before \n",
    "\n",
    "\t\t\tself.num_of_data -= 1\n",
    "\n",
    "\t\t\treturn pop_data\n",
    "\n",
    "\t# first 메소드 (search1 - 맨 앞의 노드 검색, before, current 변경)\n",
    "\tdef first(self):\n",
    "\t\t# 데이터가 없는 경우 첫번째 노드도 없기 때문에 None 리턴\n",
    "\t\tif self.num_of_data == 0: \n",
    "\t\t\treturn None\n",
    "\n",
    "\t\tself.before = self.head\n",
    "\t\tself.current = self.head.next\n",
    "\n",
    "\t\treturn self.current.data\n",
    "\n",
    "\t# next 메소드 (search2 - current 노드의 다음 노드 검색, 이전에 first 메소드가 한번은 실행되어야 함)\n",
    "\tdef next(self):\n",
    "\t\tif self.current.next == None:\n",
    "\t\t\treturn None\n",
    "\n",
    "\t\tself.before = self.current\n",
    "\t\tself.current = self.current.next\n",
    "\n",
    "\t\treturn self.current.data\n",
    "\n",
    "\t# size 메소드\n",
    "\tdef size(self):\n",
    "\t\treturn self.num_of_data\n",
    "\t\n",
    "\t# traverse_all 메소드\n",
    "\tdef traverse_all(self):\n",
    "\t\tprint(\"head -> (\"+str(self.first())+\") ->\",end=' ')\n",
    "\t\twhile(self.current != self.tail):\n",
    "\t\t\tprint(\"(\"+str(self.next())+\") ->\",end=' ')\n",
    "\t\tprint(\"null\")\n",
    "\n",
    "\t# insert_at 메소드\n",
    "\tdef insert_at(self, position, new_data):\n",
    "\t\tif position<=0:\n",
    "\t\t\tprint(\"error\")\n",
    "\t\t\treturn\n",
    "\t\telif position > self.num_of_data:\n",
    "\t\t\tself.append(new_data)\n",
    "\t\t\treturn\n",
    "\t\telse:\n",
    "\t\t\tself.first()\n",
    "\t\t\tfor i in range(1,position):\n",
    "\t\t\t\tself.next()\n",
    "\t\t\tnew_node = Node(new_data)\n",
    "\t\t\tself.before.next = new_node\n",
    "\t\t\tnew_node.next = self.current\n",
    "\t\tself.num_of_data += 1\n",
    "\n",
    "\t# remove 메소드\n",
    "\tdef remove(self, key):\n",
    "\t\tself.first()\n",
    "\t\t#KeyNotExist를 통해 key가 없는 경우를 기록\n",
    "\t\tKeyNotExist = True\n",
    "\t\tcount = 1\n",
    "\t\twhile(True):\n",
    "\t\t\tif self.current.data == key:\n",
    "\t\t\t\tKeyNotExist = False\n",
    "\t\t\t\tself.delete()\n",
    "\t\t\t\tprint(str(count)+\"번째 원소(\"+str(key)+\")를 삭제합니다.\")\n",
    "\t\t\tif self.current == self.tail:\n",
    "\t\t\t\tbreak\n",
    "\t\t\tself.next()\n",
    "\t\t\tcount += 1\n",
    "\t\tif KeyNotExist:\n",
    "\t\t\tprint(\"해당하는 원소가 없습니다.\")"
   ]
  },
  {
   "cell_type": "markdown",
   "id": "c69227a3",
   "metadata": {},
   "source": [
    "## Test Data"
   ]
  },
  {
   "cell_type": "code",
   "execution_count": 2,
   "id": "c0b7c1e6",
   "metadata": {},
   "outputs": [],
   "source": [
    "# Test Data : List with elements {10, 20, 30, 40, 50}\n",
    "List = LinkedList()\n",
    "List.append(10)\n",
    "List.append(20)\n",
    "List.append(30)\n",
    "List.append(40)\n",
    "List.append(50)"
   ]
  },
  {
   "cell_type": "markdown",
   "id": "8986bee0",
   "metadata": {},
   "source": [
    "## Feature #1 : traverse_all()\n",
    "### traverse_all()\n",
    "* head부터 tail까지 각 노드를 순차적으로 탐색하며 각 노드의 data를 print한다.\n",
    "* 출력 형식:  head -> (100) -> (72) -> (325) -> null"
   ]
  },
  {
   "cell_type": "markdown",
   "id": "c32de39b",
   "metadata": {},
   "source": [
    "* 한 줄로 출력되어야 하기 때문에, end=\" \"를 이용해 print의 개행문자를 없애고 공백으로 이어준다.\n",
    "* List의 모든 원소를 출력하기 때문에 while(self.current != self.tail)을 통해 탐색할 수 있다."
   ]
  },
  {
   "cell_type": "code",
   "execution_count": 3,
   "id": "ad7091e4",
   "metadata": {},
   "outputs": [
    {
     "name": "stdout",
     "output_type": "stream",
     "text": [
      "head -> (10) -> (20) -> (30) -> (40) -> (50) -> null\n"
     ]
    }
   ],
   "source": [
    "List.traverse_all()"
   ]
  },
  {
   "cell_type": "markdown",
   "id": "295a9ad5",
   "metadata": {},
   "source": [
    "## Feature #2 : insert_at(position, new_data)\n",
    "\n",
    "### insert_at(position, new_data)\n",
    "* 리스트의 주어진 위치(position)에 new_data를 삽입한다.\n",
    "* 이 때, 맨 첫 원소의 위치는 1로 정하며, 0 이하의 position 값이 입력되면 error 문을 출력한다.\n",
    "* 만일 position이 현재 리스트의 크기(원소 갯수)보다 크면 맨 마지막에 new_data를 삽입한다."
   ]
  },
  {
   "cell_type": "markdown",
   "id": "1329fe05",
   "metadata": {},
   "source": [
    "* 특정 위치의 Node에만 접근하면 되기 때문에, for i in range(1,position): self.next()를 통해 위치를 찾는다.\n",
    "* 새로운 데이터가 입력되기 때문에 num_of_data를 증가시켜준다"
   ]
  },
  {
   "cell_type": "code",
   "execution_count": 4,
   "id": "263cfe07",
   "metadata": {},
   "outputs": [
    {
     "name": "stdout",
     "output_type": "stream",
     "text": [
      "head -> (10) -> (20) -> (77) -> (30) -> (40) -> (50) -> null\n",
      "6\n"
     ]
    }
   ],
   "source": [
    "List.insert_at(3,77)\n",
    "List.traverse_all()\n",
    "print(List.num_of_data)"
   ]
  },
  {
   "cell_type": "markdown",
   "id": "068d6252",
   "metadata": {},
   "source": [
    "* 0 이하의 position 값이 입력될 경우 error를 출력\n",
    "* 이때 데이터가 추가된게 아니기 때문에 num_of_data가 증가하지 않는다."
   ]
  },
  {
   "cell_type": "code",
   "execution_count": 5,
   "id": "984b90ba",
   "metadata": {},
   "outputs": [
    {
     "name": "stdout",
     "output_type": "stream",
     "text": [
      "error\n",
      "head -> (10) -> (20) -> (77) -> (30) -> (40) -> (50) -> null\n",
      "6\n"
     ]
    }
   ],
   "source": [
    "List.insert_at(-10,77)\n",
    "List.traverse_all()\n",
    "print(List.num_of_data)"
   ]
  },
  {
   "cell_type": "markdown",
   "id": "bf130808",
   "metadata": {},
   "source": [
    "* position > 리스트 크기일 경우 append와 동일한 동작\n",
    "* append 메소드 내부에서 num_of_data를 증가시키기 때문에 따로 num_of_data를 증가시키지는 않는다."
   ]
  },
  {
   "cell_type": "code",
   "execution_count": 6,
   "id": "1529ccae",
   "metadata": {},
   "outputs": [
    {
     "name": "stdout",
     "output_type": "stream",
     "text": [
      "head -> (10) -> (20) -> (77) -> (30) -> (40) -> (50) -> (77) -> null\n",
      "7\n"
     ]
    }
   ],
   "source": [
    "List.insert_at(10,77)\n",
    "List.traverse_all()\n",
    "print(List.num_of_data)"
   ]
  },
  {
   "cell_type": "markdown",
   "id": "d9257c71",
   "metadata": {},
   "source": [
    "## Feature #3 : remove(key)\n",
    "\n",
    "### remove(key)\n",
    "* 리스트의 원소 가운데 key값과 일치하는 원소를 모두 삭제하고, 리스트를 수정한다.\n",
    "* 이 때, 처리 결과를 다음 예와 같이 출력한다.\n",
    "    - 3번째 원소(key)를 삭제합니다. \n",
    "    - 해당하는 원소가 없습니다."
   ]
  },
  {
   "cell_type": "markdown",
   "id": "21cf0102",
   "metadata": {},
   "source": [
    "* List의 모든 원소를 탐색하며 data가 key와 일치하는 Node에 delete 메소드를 적용한다.\n",
    "* 이때, while(self.current != self.tail)의 경우 tail에서 적용이 불가능\n",
    "* While(True) 내부에서 self.current == self.tail일 경우 break 하도록 설정"
   ]
  },
  {
   "cell_type": "code",
   "execution_count": 7,
   "id": "bc8505d0",
   "metadata": {},
   "outputs": [
    {
     "name": "stdout",
     "output_type": "stream",
     "text": [
      "3번째 원소(77)를 삭제합니다.\n",
      "7번째 원소(77)를 삭제합니다.\n"
     ]
    }
   ],
   "source": [
    "List.remove(77)"
   ]
  },
  {
   "cell_type": "markdown",
   "id": "b55e2033",
   "metadata": {},
   "source": [
    "* 플래그 KeyNotExist를 True로 설정\n",
    "* Key와 동일한 data가 하나도 존재하지 않을경우(=KeyNotExist가 변화하지 않았을 경우) 메세지를 출력"
   ]
  },
  {
   "cell_type": "code",
   "execution_count": 8,
   "id": "196ea16b",
   "metadata": {},
   "outputs": [
    {
     "name": "stdout",
     "output_type": "stream",
     "text": [
      "해당하는 원소가 없습니다.\n"
     ]
    }
   ],
   "source": [
    "List.remove(42)"
   ]
  }
 ],
 "metadata": {
  "kernelspec": {
   "display_name": "Python 3 (ipykernel)",
   "language": "python",
   "name": "python3"
  },
  "language_info": {
   "codemirror_mode": {
    "name": "ipython",
    "version": 3
   },
   "file_extension": ".py",
   "mimetype": "text/x-python",
   "name": "python",
   "nbconvert_exporter": "python",
   "pygments_lexer": "ipython3",
   "version": "3.10.9"
  }
 },
 "nbformat": 4,
 "nbformat_minor": 5
}
